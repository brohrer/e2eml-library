{
 "cells": [
  {
   "cell_type": "markdown",
   "metadata": {},
   "source": [
    "# Matplotlib for diagrams\n",
    "\n",
    "This is my first post for the Matplotlib blog so I wanted to lead with an example of what I most love about it: How much control Matplotlib gives you. I like to use it as a programmable drawing tool that happens to be good at plotting data.\n",
    "\n",
    "The default plot layout for Matplotlib works great for a lot of things, but sometimes you want to exert\n",
    "more control. Sometimes you want to treat your figure window as a blank canvas and create diagrams \n",
    "to communicate your ideas. Here, we will walk through the process for setting this up. Most of these tricks are detailed in [this cheat sheet for laying out plots](https://e2eml.school/matplotlib_framing.html)."
   ]
  },
  {
   "cell_type": "code",
   "execution_count": 1,
   "metadata": {},
   "outputs": [],
   "source": [
    "import matplotlib.pyplot as plt\n",
    "import numpy as np"
   ]
  },
  {
   "cell_type": "markdown",
   "metadata": {},
   "source": [
    "The first step is to choose the size of your canvas.\n",
    "\n",
    "(Just a heads up, I love the metaphor \n",
    "of the canvas, so that’s how I am using the term here. The Canvas object is a very specific \n",
    "thing in the Matplotlib code base. That's not what I'm referring to.)"
   ]
  },
  {
   "cell_type": "markdown",
   "metadata": {},
   "source": [
    "I’m planning to make a diagram that is 16 centimeters wide and 9 centimeters high.\n",
    "This will fit comfortably on a piece of A4 or US Letter paper\n",
    "and will be almost twice as wide as it is high. It also scales up nicely to fit on a wide-format slide presentation.\n",
    "\n",
    "The `figure` function accepts a `figsize` argument, a tuple of `(width, height)` in **inches**. To convert from centimeters, we'll just divide by 2.54."
   ]
  },
  {
   "cell_type": "code",
   "execution_count": 2,
   "metadata": {},
   "outputs": [
    {
     "data": {
      "text/plain": [
       "<Figure size 453.543x255.118 with 0 Axes>"
      ]
     },
     "metadata": {},
     "output_type": "display_data"
    }
   ],
   "source": [
    "fig_width = 16  # cm\n",
    "fig_height = 9  # cm\n",
    "fig = plt.figure(figsize=(fig_width / 2.54, fig_height / 2.54))"
   ]
  },
  {
   "cell_type": "markdown",
   "metadata": {},
   "source": [
    "The next step is to add an Axes object that we can draw on. By default, Matplotlib will size and place the Axes to leave a little border and room for x- and y-axis labels. However, we don't want that this time around. We want our Axes to extend right up to the edge of the Figure.\n",
    "\n",
    "The `add_axes()` function lets us specify exactly where to place our new Axes and how big to make it. It accepts a tuple of the format `(left, bottom, width height)`. The coordinate frame of the Figure is always (0, 0) at the bottom left corner and (1, 1) at the upper right, no matter what size of Figure you are working with. Positions, widths, and heights all become fractions of the total width and height of the Figure.\n",
    "\n",
    "To fill the Figure with our Axes entirely, we specify a left position of 0, a bottom position of 0, a width of 1, and a height of 1.\n"
   ]
  },
  {
   "cell_type": "code",
   "execution_count": 3,
   "metadata": {},
   "outputs": [],
   "source": [
    "ax = fig.add_axes((0, 0, 1, 1))"
   ]
  },
  {
   "cell_type": "markdown",
   "metadata": {},
   "source": [
    "To make our diagram creation easier, we can set the axis limits so that one unit in the figure equals one centimeter. This grants us an intuitive way to control the size of objects in the diagram. A circle with a radius of 2 will be drawn as a circle (not an ellipse) in the final image and have a radius of 2 cm."
   ]
  },
  {
   "cell_type": "code",
   "execution_count": 4,
   "metadata": {},
   "outputs": [
    {
     "data": {
      "text/plain": [
       "(0, 9)"
      ]
     },
     "execution_count": 4,
     "metadata": {},
     "output_type": "execute_result"
    }
   ],
   "source": [
    "ax.set_xlim(0, fig_width)\n",
    "ax.set_ylim(0, fig_height)"
   ]
  },
  {
   "cell_type": "markdown",
   "metadata": {},
   "source": [
    "We can also do away with the automatically generated ticks and tick labels with this pair of calls."
   ]
  },
  {
   "cell_type": "code",
   "execution_count": 5,
   "metadata": {},
   "outputs": [],
   "source": [
    "ax.tick_params(bottom=False, top=False, left=False, right=False)\n",
    "ax.tick_params(labelbottom=False, labeltop=False, labelleft=False, labelright=False)"
   ]
  },
  {
   "cell_type": "markdown",
   "metadata": {},
   "source": [
    "At this point we have a big blank space of exactly the right size and shape. Now we can begin building our diagram. The foundation of the image will be the background color. White is fine, but sometimes it's fun to mix it up. [Here are some ideas](https://e2eml.school/matplotlib_lines.html#color) to get you started."
   ]
  },
  {
   "cell_type": "code",
   "execution_count": 6,
   "metadata": {},
   "outputs": [],
   "source": [
    "ax.set_facecolor(\"antiquewhite\")"
   ]
  },
  {
   "cell_type": "markdown",
   "metadata": {},
   "source": [
    "We can also add a border to the diagram to visually set it apart."
   ]
  },
  {
   "cell_type": "code",
   "execution_count": 7,
   "metadata": {},
   "outputs": [],
   "source": [
    "ax.spines[\"top\"].set_color(\"midnightblue\")\n",
    "ax.spines[\"bottom\"].set_color(\"midnightblue\")\n",
    "ax.spines[\"left\"].set_color(\"midnightblue\")\n",
    "ax.spines[\"right\"].set_color(\"midnightblue\")\n",
    "ax.spines[\"top\"].set_linewidth(4)\n",
    "ax.spines[\"bottom\"].set_linewidth(4)\n",
    "ax.spines[\"left\"].set_linewidth(4)\n",
    "ax.spines[\"right\"].set_linewidth(4)"
   ]
  },
  {
   "cell_type": "markdown",
   "metadata": {},
   "source": [
    "Now we have a foundation and background in place and we're finally ready to start drawing.\n",
    "You have complete freedom to [draw curves and shapes](https://e2eml.school/matplotlib_lines.html),\n",
    "[place points](https://e2eml.school/matplotlib_points.html),\n",
    "and [add text](https://e2eml.school/matplotlib_text.html) of any variety within our\n",
    "16 x 9 garden walls.\n",
    "\n",
    "Then when you're done, the last step is to save the figure out as a `.png` file. In this format it can be imported to and added to whatever document or presentation you're working on "
   ]
  },
  {
   "cell_type": "code",
   "execution_count": 8,
   "metadata": {},
   "outputs": [],
   "source": [
    "fig.savefig(\"blank_diagram.png\", dpi=300)"
   ]
  },
  {
   "cell_type": "markdown",
   "metadata": {},
   "source": [
    "![Blank diagram example](blank_diagram.png)"
   ]
  },
  {
   "cell_type": "markdown",
   "metadata": {},
   "source": [
    "If you're making a collection of diagrams, you can make a convenient template for your blank canvas."
   ]
  },
  {
   "cell_type": "code",
   "execution_count": 9,
   "metadata": {},
   "outputs": [],
   "source": [
    "def blank_diagram(fig_width=16, fig_height=9, bg_color=\"antiquewhite\", color=\"midnightblue\"):\n",
    "    fig = plt.figure(figsize=(fig_width / 2.54, fig_height / 2.54))\n",
    "    ax = fig.add_axes((0, 0, 1, 1))\n",
    "    ax.set_xlim(0, fig_width)\n",
    "    ax.set_ylim(0, fig_height)\n",
    "    ax.set_facecolor(bg_color)\n",
    "    \n",
    "    ax.tick_params(bottom=False, top=False, left=False, right=False)\n",
    "    ax.tick_params(labelbottom=False, labeltop=False, labelleft=False, labelright=False)\n",
    "    \n",
    "    ax.spines[\"top\"].set_color(color)\n",
    "    ax.spines[\"bottom\"].set_color(color)\n",
    "    ax.spines[\"left\"].set_color(color)\n",
    "    ax.spines[\"right\"].set_color(color)\n",
    "    ax.spines[\"top\"].set_linewidth(4)\n",
    "    ax.spines[\"bottom\"].set_linewidth(4)\n",
    "    ax.spines[\"left\"].set_linewidth(4)\n",
    "    ax.spines[\"right\"].set_linewidth(4)\n",
    "    \n",
    "    return fig, ax"
   ]
  },
  {
   "cell_type": "markdown",
   "metadata": {},
   "source": [
    "Then you can take that canvas and add arbitrary text, shapes, and lines."
   ]
  },
  {
   "cell_type": "code",
   "execution_count": 13,
   "metadata": {},
   "outputs": [
    {
     "data": {
      "image/png": "[encoded data removed]",
      "text/plain": [
       "<Figure size 453.543x255.118 with 1 Axes>"
      ]
     },
     "metadata": {},
     "output_type": "display_data"
    }
   ],
   "source": [
    "fig, ax = blank_diagram()\n",
    "\n",
    "for x0 in np.arange(-3, 16, .5):\n",
    "    ax.plot([x0, x0 + 3], [0, 9], color=\"black\")\n",
    "\n",
    "fig.savefig(\"stripes_diagram.png\", dpi=300)"
   ]
  },
  {
   "cell_type": "code",
   "execution_count": 10,
   "metadata": {},
   "outputs": [
    {
     "data": {
      "image/png": "[encoded data removed]",
      "text/plain": [
       "<Figure size 453.543x255.118 with 1 Axes>"
      ]
     },
     "metadata": {},
     "output_type": "display_data"
    }
   ],
   "source": [
    "fig, ax = blank_diagram()\n",
    "\n",
    "centers = [(3.5, 6.5), (8, 6.5), (12.5, 6.5), (8, 2.5)]\n",
    "radii = 1.5\n",
    "texts = [\n",
    "    \"\\n\".join([\"My roomate\", \"is a Philistine\", \"and a boor\"]),\n",
    "    \"\\n\".join([\"My roomate\", \"ate the last\", \"of the\", \"cold cereal\"]),\n",
    "    \"\\n\".join([\"I am really\", \"really hungy\"]),\n",
    "    \"\\n\".join([\"I'm annoyed\", \"at my roomate\"]),\n",
    "]\n",
    "\n",
    "# Draw circles with text in the center\n",
    "for i, center in enumerate(centers):\n",
    "    x, y = center\n",
    "    theta = np.linspace(0, 2 * np.pi, 100)\n",
    "    ax.plot(\n",
    "        x + radii * np.cos(theta),\n",
    "        y + radii * np.sin(theta),\n",
    "        color=\"midnightblue\",\n",
    "    )\n",
    "    ax.text(\n",
    "        x, y,\n",
    "        texts[i],\n",
    "        horizontalalignment=\"center\",\n",
    "        verticalalignment=\"center\",\n",
    "        color=\"midnightblue\",\n",
    "    )\n",
    "\n",
    "# Draw arrows connecting them\n",
    "# https://e2eml.school/matplotlib_text.html#annotate\n",
    "ax.annotate(\n",
    "    \"\",\n",
    "    (centers[1][0] - radii, centers[1][1]),\n",
    "    (centers[0][0] + radii, centers[0][1]),\n",
    "    arrowprops=dict(arrowstyle = \"-|>\"),\n",
    ") \n",
    "ax.annotate(\n",
    "    \"\",\n",
    "    (centers[2][0] - radii, centers[2][1]),\n",
    "    (centers[1][0] + radii, centers[1][1]),\n",
    "    arrowprops=dict(arrowstyle = \"-|>\"),\n",
    ")\n",
    "ax.annotate(\n",
    "    \"\",\n",
    "    (centers[3][0] - .7 * radii, centers[3][1] + .7 * radii),\n",
    "    (centers[0][0] + .7 * radii, centers[0][1] - .7 * radii),\n",
    "    arrowprops=dict(arrowstyle = \"-|>\"),\n",
    ")\n",
    "ax.annotate(\n",
    "    \"\",\n",
    "    (centers[3][0] + .7 * radii, centers[3][1] + .7 * radii),\n",
    "    (centers[2][0] - .7 * radii, centers[2][1] - .7 * radii),\n",
    "    arrowprops=dict(arrowstyle = \"-|>\"),\n",
    ")\n",
    "\n",
    "fig.savefig(\"causal_diagram.png\", dpi=300)"
   ]
  },
  {
   "cell_type": "markdown",
   "metadata": {},
   "source": [
    "Once you get started on this path, you can start making extravagantly annotated plots. It can elevate your data presentations to true storytelling.\n",
    "\n",
    "Happy diagram building!"
   ]
  }
 ],
 "metadata": {
  "kernelspec": {
   "display_name": "Python 3",
   "language": "python",
   "name": "python3"
  },
  "language_info": {
   "codemirror_mode": {
    "name": "ipython",
    "version": 3
   },
   "file_extension": ".py",
   "mimetype": "text/x-python",
   "name": "python",
   "nbconvert_exporter": "python",
   "pygments_lexer": "ipython3",
   "version": "3.6.9"
  }
 },
 "nbformat": 4,
 "nbformat_minor": 2
}
